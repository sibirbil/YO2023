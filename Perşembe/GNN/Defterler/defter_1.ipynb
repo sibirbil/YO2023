{
 "cells": [
  {
   "cell_type": "code",
   "execution_count": 48,
   "id": "35a93303",
   "metadata": {},
   "outputs": [
    {
     "name": "stdout",
     "output_type": "stream",
     "text": [
      "Requirement already satisfied: networkx in /Users/kamer/opt/anaconda3/lib/python3.8/site-packages (2.6.3)\n",
      "Collecting networkx\n",
      "  Using cached networkx-3.0-py3-none-any.whl (2.0 MB)\n",
      "Installing collected packages: networkx\n",
      "  Attempting uninstall: networkx\n",
      "    Found existing installation: networkx 2.6.3\n",
      "    Uninstalling networkx-2.6.3:\n",
      "      Successfully uninstalled networkx-2.6.3\n",
      "Successfully installed networkx-3.0\n"
     ]
    }
   ],
   "source": [
    "#!pip3 install torch torchvision torchaudio\n",
    "#!pip install pyg-lib torch-scatter torch-sparse torch-cluster torch-spline-conv torch-geometric -f https://data.pyg.org/whl/torch-1.13.0+cpu.html\n",
    "#!pip install decorator\n",
    "#!pip install -U matplotlib\n",
    "\n",
    "#!pip install -U networkx\n",
    "#!pip install -U scipy\n"
   ]
  },
  {
   "cell_type": "code",
   "execution_count": 30,
   "id": "c0e6df24",
   "metadata": {},
   "outputs": [
    {
     "name": "stdout",
     "output_type": "stream",
     "text": [
      "Data(x=[3, 1], edge_index=[2, 4])\n"
     ]
    }
   ],
   "source": [
    "import torch\n",
    "from torch_geometric.data import Data\n",
    "\n",
    "#tensör çok boyutlu, ve tek tip veri tutabilen bir matris olarak düşünülebilir. \n",
    "#bizim örneğimizde iki boyutlu bir yapımız var. \n",
    "#çizgenin kenarlarını koordinat formatında tutuyoruz. \n",
    "edge_index = torch.tensor([[0, 1, 1, 2],\n",
    "                           [1, 0, 2, 1]], dtype=torch.long)\n",
    "\n",
    "#nokta özellikleri - bu örnekte her noktanın tek boyutlu bir\n",
    "#özellik vektörü var. bu özellikler float olarak belirlenmiş.\n",
    "x = torch.tensor([[-1], [0], [1]], dtype=torch.float)\n",
    "\n",
    "#n noktalı, m kenarlı bir çizge için, noktaların k özelliği varsa\n",
    "#x: n x k'lık bir matris\n",
    "#edge_index: 2 x m'lik bir matris\n",
    "data = Data(x=x, edge_index=edge_index)\n",
    "\n",
    "print(data)"
   ]
  },
  {
   "attachments": {
    "graph.svg": {
     "image/svg+xml": [
      "PD94bWwgdmVyc2lvbj0iMS4wIiBlbmNvZGluZz0iVVRGLTgiPz4KPHN2ZyB4bWxucz0iaHR0cDovL3d3dy53My5vcmcvMjAwMC9zdmciIHhtbG5zOnhsaW5rPSJodHRwOi8vd3d3LnczLm9yZy8xOTk5L3hsaW5rIiB3aWR0aD0iMTUyLjc5MnB0IiBoZWlnaHQ9IjYwLjkxNXB0IiB2aWV3Qm94PSIwIDAgMTUyLjc5MiA2MC45MTUiIHZlcnNpb249IjEuMSI+CjxkZWZzPgo8Zz4KPHN5bWJvbCBvdmVyZmxvdz0idmlzaWJsZSIgaWQ9ImdseXBoMC0wIj4KPHBhdGggc3R5bGU9InN0cm9rZTpub25lOyIgZD0iIi8+Cjwvc3ltYm9sPgo8c3ltYm9sIG92ZXJmbG93PSJ2aXNpYmxlIiBpZD0iZ2x5cGgwLTEiPgo8cGF0aCBzdHlsZT0ic3Ryb2tlOm5vbmU7IiBkPSJNIDQuNTc4MTI1IC0zLjE4NzUgQyA0LjU3ODEyNSAtMy45ODQzNzUgNC41MzEyNSAtNC43ODEyNSA0LjE4NzUgLTUuNTE1NjI1IEMgMy43MzQzNzUgLTYuNDg0Mzc1IDIuOTA2MjUgLTYuNjQwNjI1IDIuNSAtNi42NDA2MjUgQyAxLjg5MDYyNSAtNi42NDA2MjUgMS4xNzE4NzUgLTYuMzc1IDAuNzUgLTUuNDUzMTI1IEMgMC40Mzc1IC00Ljc2NTYyNSAwLjM5MDYyNSAtMy45ODQzNzUgMC4zOTA2MjUgLTMuMTg3NSBDIDAuMzkwNjI1IC0yLjQzNzUgMC40MjE4NzUgLTEuNTQ2ODc1IDAuODQzNzUgLTAuNzgxMjUgQyAxLjI2NTYyNSAwLjAxNTYyNSAyIDAuMjE4NzUgMi40ODQzNzUgMC4yMTg3NSBDIDMuMDE1NjI1IDAuMjE4NzUgMy43ODEyNSAwLjAxNTYyNSA0LjIxODc1IC0wLjkzNzUgQyA0LjUzMTI1IC0xLjYyNSA0LjU3ODEyNSAtMi40MDYyNSA0LjU3ODEyNSAtMy4xODc1IFogTSAyLjQ4NDM3NSAwIEMgMi4wOTM3NSAwIDEuNSAtMC4yNSAxLjMyODEyNSAtMS4yMDMxMjUgQyAxLjIxODc1IC0xLjc5Njg3NSAxLjIxODc1IC0yLjcxODc1IDEuMjE4NzUgLTMuMzEyNSBDIDEuMjE4NzUgLTMuOTUzMTI1IDEuMjE4NzUgLTQuNjA5Mzc1IDEuMjk2ODc1IC01LjE0MDYyNSBDIDEuNDg0Mzc1IC02LjMyODEyNSAyLjIzNDM3NSAtNi40MjE4NzUgMi40ODQzNzUgLTYuNDIxODc1IEMgMi44MTI1IC02LjQyMTg3NSAzLjQ2ODc1IC02LjIzNDM3NSAzLjY1NjI1IC01LjI1IEMgMy43NjU2MjUgLTQuNjg3NSAzLjc2NTYyNSAtMy45Mzc1IDMuNzY1NjI1IC0zLjMxMjUgQyAzLjc2NTYyNSAtMi41NjI1IDMuNzY1NjI1IC0xLjg5MDYyNSAzLjY1NjI1IC0xLjI1IEMgMy41IC0wLjI5Njg3NSAyLjkzNzUgMCAyLjQ4NDM3NSAwIFogTSAyLjQ4NDM3NSAwICIvPgo8L3N5bWJvbD4KPHN5bWJvbCBvdmVyZmxvdz0idmlzaWJsZSIgaWQ9ImdseXBoMC0yIj4KPHBhdGggc3R5bGU9InN0cm9rZTpub25lOyIgZD0iTSA2Ljg0Mzc1IC0zLjI2NTYyNSBDIDcgLTMuMjY1NjI1IDcuMTg3NSAtMy4yNjU2MjUgNy4xODc1IC0zLjQ1MzEyNSBDIDcuMTg3NSAtMy42NTYyNSA3IC0zLjY1NjI1IDYuODU5Mzc1IC0zLjY1NjI1IEwgMC44OTA2MjUgLTMuNjU2MjUgQyAwLjc1IC0zLjY1NjI1IDAuNTYyNSAtMy42NTYyNSAwLjU2MjUgLTMuNDUzMTI1IEMgMC41NjI1IC0zLjI2NTYyNSAwLjc1IC0zLjI2NTYyNSAwLjg5MDYyNSAtMy4yNjU2MjUgWiBNIDYuODU5Mzc1IC0xLjMyODEyNSBDIDcgLTEuMzI4MTI1IDcuMTg3NSAtMS4zMjgxMjUgNy4xODc1IC0xLjUzMTI1IEMgNy4xODc1IC0xLjcxODc1IDcgLTEuNzE4NzUgNi44NDM3NSAtMS43MTg3NSBMIDAuODkwNjI1IC0xLjcxODc1IEMgMC43NSAtMS43MTg3NSAwLjU2MjUgLTEuNzE4NzUgMC41NjI1IC0xLjUzMTI1IEMgMC41NjI1IC0xLjMyODEyNSAwLjc1IC0xLjMyODEyNSAwLjg5MDYyNSAtMS4zMjgxMjUgWiBNIDYuODU5Mzc1IC0xLjMyODEyNSAiLz4KPC9zeW1ib2w+CjxzeW1ib2wgb3ZlcmZsb3c9InZpc2libGUiIGlkPSJnbHlwaDAtMyI+CjxwYXRoIHN0eWxlPSJzdHJva2U6bm9uZTsiIGQ9Ik0gMi45Mzc1IC02LjM3NSBDIDIuOTM3NSAtNi42MjUgMi45Mzc1IC02LjY0MDYyNSAyLjcwMzEyNSAtNi42NDA2MjUgQyAyLjA3ODEyNSAtNiAxLjIwMzEyNSAtNiAwLjg5MDYyNSAtNiBMIDAuODkwNjI1IC01LjY4NzUgQyAxLjA5Mzc1IC01LjY4NzUgMS42NzE4NzUgLTUuNjg3NSAyLjE4NzUgLTUuOTUzMTI1IEwgMi4xODc1IC0wLjc4MTI1IEMgMi4xODc1IC0wLjQyMTg3NSAyLjE1NjI1IC0wLjMxMjUgMS4yNjU2MjUgLTAuMzEyNSBMIDAuOTUzMTI1IC0wLjMxMjUgTCAwLjk1MzEyNSAwIEMgMS4yOTY4NzUgLTAuMDMxMjUgMi4xNTYyNSAtMC4wMzEyNSAyLjU2MjUgLTAuMDMxMjUgQyAyLjk1MzEyNSAtMC4wMzEyNSAzLjgyODEyNSAtMC4wMzEyNSA0LjE3MTg3NSAwIEwgNC4xNzE4NzUgLTAuMzEyNSBMIDMuODU5Mzc1IC0wLjMxMjUgQyAyLjk1MzEyNSAtMC4zMTI1IDIuOTM3NSAtMC40MjE4NzUgMi45Mzc1IC0wLjc4MTI1IFogTSAyLjkzNzUgLTYuMzc1ICIvPgo8L3N5bWJvbD4KPHN5bWJvbCBvdmVyZmxvdz0idmlzaWJsZSIgaWQ9ImdseXBoMC00Ij4KPHBhdGggc3R5bGU9InN0cm9rZTpub25lOyIgZD0iTSAxLjI2NTYyNSAtMC43NjU2MjUgTCAyLjMyODEyNSAtMS43OTY4NzUgQyAzLjg3NSAtMy4xNzE4NzUgNC40Njg3NSAtMy43MDMxMjUgNC40Njg3NSAtNC43MDMxMjUgQyA0LjQ2ODc1IC01Ljg0Mzc1IDMuNTc4MTI1IC02LjY0MDYyNSAyLjM1OTM3NSAtNi42NDA2MjUgQyAxLjIzNDM3NSAtNi42NDA2MjUgMC41IC01LjcxODc1IDAuNSAtNC44MjgxMjUgQyAwLjUgLTQuMjgxMjUgMSAtNC4yODEyNSAxLjAzMTI1IC00LjI4MTI1IEMgMS4yMDMxMjUgLTQuMjgxMjUgMS41NDY4NzUgLTQuMzkwNjI1IDEuNTQ2ODc1IC00LjgxMjUgQyAxLjU0Njg3NSAtNS4wNjI1IDEuMzU5Mzc1IC01LjMyODEyNSAxLjAxNTYyNSAtNS4zMjgxMjUgQyAwLjkzNzUgLTUuMzI4MTI1IDAuOTIxODc1IC01LjMyODEyNSAwLjg5MDYyNSAtNS4zMTI1IEMgMS4xMDkzNzUgLTUuOTY4NzUgMS42NTYyNSAtNi4zMjgxMjUgMi4yMzQzNzUgLTYuMzI4MTI1IEMgMy4xNDA2MjUgLTYuMzI4MTI1IDMuNTYyNSAtNS41MTU2MjUgMy41NjI1IC00LjcwMzEyNSBDIDMuNTYyNSAtMy45MDYyNSAzLjA3ODEyNSAtMy4xMjUgMi41MTU2MjUgLTIuNSBMIDAuNjA5Mzc1IC0wLjM3NSBDIDAuNSAtMC4yNjU2MjUgMC41IC0wLjIzNDM3NSAwLjUgMCBMIDQuMjAzMTI1IDAgTCA0LjQ2ODc1IC0xLjczNDM3NSBMIDQuMjM0Mzc1IC0xLjczNDM3NSBDIDQuMTcxODc1IC0xLjQzNzUgNC4xMDkzNzUgLTEgNCAtMC44NDM3NSBDIDMuOTM3NSAtMC43NjU2MjUgMy4yODEyNSAtMC43NjU2MjUgMy4wNjI1IC0wLjc2NTYyNSBaIE0gMS4yNjU2MjUgLTAuNzY1NjI1ICIvPgo8L3N5bWJvbD4KPHN5bWJvbCBvdmVyZmxvdz0idmlzaWJsZSIgaWQ9ImdseXBoMS0wIj4KPHBhdGggc3R5bGU9InN0cm9rZTpub25lOyIgZD0iIi8+Cjwvc3ltYm9sPgo8c3ltYm9sIG92ZXJmbG93PSJ2aXNpYmxlIiBpZD0iZ2x5cGgxLTEiPgo8cGF0aCBzdHlsZT0ic3Ryb2tlOm5vbmU7IiBkPSJNIDMuMzI4MTI1IC0zLjAxNTYyNSBDIDMuMzkwNjI1IC0zLjI2NTYyNSAzLjYyNSAtNC4xODc1IDQuMzEyNSAtNC4xODc1IEMgNC4zNTkzNzUgLTQuMTg3NSA0LjYwOTM3NSAtNC4xODc1IDQuODEyNSAtNC4wNjI1IEMgNC41MzEyNSAtNCA0LjM0Mzc1IC0zLjc2NTYyNSA0LjM0Mzc1IC0zLjUxNTYyNSBDIDQuMzQzNzUgLTMuMzU5Mzc1IDQuNDUzMTI1IC0zLjE3MTg3NSA0LjcxODc1IC0zLjE3MTg3NSBDIDQuOTM3NSAtMy4xNzE4NzUgNS4yNSAtMy4zNDM3NSA1LjI1IC0zLjc1IEMgNS4yNSAtNC4yNjU2MjUgNC42NzE4NzUgLTQuNDA2MjUgNC4zMjgxMjUgLTQuNDA2MjUgQyAzLjc1IC00LjQwNjI1IDMuNDA2MjUgLTMuODc1IDMuMjgxMjUgLTMuNjU2MjUgQyAzLjAzMTI1IC00LjMxMjUgMi41IC00LjQwNjI1IDIuMjAzMTI1IC00LjQwNjI1IEMgMS4xNzE4NzUgLTQuNDA2MjUgMC41OTM3NSAtMy4xMjUgMC41OTM3NSAtMi44NzUgQyAwLjU5Mzc1IC0yLjc2NTYyNSAwLjcwMzEyNSAtMi43NjU2MjUgMC43MTg3NSAtMi43NjU2MjUgQyAwLjc5Njg3NSAtMi43NjU2MjUgMC44MjgxMjUgLTIuNzk2ODc1IDAuODQzNzUgLTIuODc1IEMgMS4xODc1IC0zLjkzNzUgMS44NDM3NSAtNC4xODc1IDIuMTg3NSAtNC4xODc1IEMgMi4zNzUgLTQuMTg3NSAyLjcxODc1IC00LjA5Mzc1IDIuNzE4NzUgLTMuNTE1NjI1IEMgMi43MTg3NSAtMy4yMDMxMjUgMi41NDY4NzUgLTIuNTQ2ODc1IDIuMTg3NSAtMS4xNDA2MjUgQyAyLjAzMTI1IC0wLjUzMTI1IDEuNjcxODc1IC0wLjEwOTM3NSAxLjIzNDM3NSAtMC4xMDkzNzUgQyAxLjE3MTg3NSAtMC4xMDkzNzUgMC45NTMxMjUgLTAuMTA5Mzc1IDAuNzM0Mzc1IC0wLjIzNDM3NSBDIDAuOTg0Mzc1IC0wLjI5Njg3NSAxLjIwMzEyNSAtMC41IDEuMjAzMTI1IC0wLjc4MTI1IEMgMS4yMDMxMjUgLTEuMDQ2ODc1IDAuOTg0Mzc1IC0xLjEyNSAwLjg0Mzc1IC0xLjEyNSBDIDAuNTMxMjUgLTEuMTI1IDAuMjk2ODc1IC0wLjg3NSAwLjI5Njg3NSAtMC41NDY4NzUgQyAwLjI5Njg3NSAtMC4wOTM3NSAwLjc4MTI1IDAuMTA5Mzc1IDEuMjE4NzUgMC4xMDkzNzUgQyAxLjg5MDYyNSAwLjEwOTM3NSAyLjI1IC0wLjU5Mzc1IDIuMjY1NjI1IC0wLjY0MDYyNSBDIDIuMzkwNjI1IC0wLjI4MTI1IDIuNzUgMC4xMDkzNzUgMy4zNDM3NSAwLjEwOTM3NSBDIDQuMzc1IDAuMTA5Mzc1IDQuOTM3NSAtMS4xNzE4NzUgNC45Mzc1IC0xLjQyMTg3NSBDIDQuOTM3NSAtMS41MzEyNSA0Ljg1OTM3NSAtMS41MzEyNSA0LjgyODEyNSAtMS41MzEyNSBDIDQuNzM0Mzc1IC0xLjUzMTI1IDQuNzE4NzUgLTEuNDg0Mzc1IDQuNjg3NSAtMS40MjE4NzUgQyA0LjM1OTM3NSAtMC4zNDM3NSAzLjY4NzUgLTAuMTA5Mzc1IDMuMzc1IC0wLjEwOTM3NSBDIDIuOTg0Mzc1IC0wLjEwOTM3NSAyLjgyODEyNSAtMC40MjE4NzUgMi44MjgxMjUgLTAuNzY1NjI1IEMgMi44MjgxMjUgLTAuOTg0Mzc1IDIuODc1IC0xLjIwMzEyNSAyLjk4NDM3NSAtMS42NDA2MjUgWiBNIDMuMzI4MTI1IC0zLjAxNTYyNSAiLz4KPC9zeW1ib2w+CjxzeW1ib2wgb3ZlcmZsb3c9InZpc2libGUiIGlkPSJnbHlwaDItMCI+CjxwYXRoIHN0eWxlPSJzdHJva2U6bm9uZTsiIGQ9IiIvPgo8L3N5bWJvbD4KPHN5bWJvbCBvdmVyZmxvdz0idmlzaWJsZSIgaWQ9ImdseXBoMi0xIj4KPHBhdGggc3R5bGU9InN0cm9rZTpub25lOyIgZD0iTSAyLjMyODEyNSAtNC40Mzc1IEMgMi4zMjgxMjUgLTQuNjI1IDIuMzI4MTI1IC00LjYyNSAyLjEyNSAtNC42MjUgQyAxLjY3MTg3NSAtNC4xODc1IDEuMDQ2ODc1IC00LjE4NzUgMC43NjU2MjUgLTQuMTg3NSBMIDAuNzY1NjI1IC0zLjkzNzUgQyAwLjkyMTg3NSAtMy45Mzc1IDEuMzkwNjI1IC0zLjkzNzUgMS43NjU2MjUgLTQuMTI1IEwgMS43NjU2MjUgLTAuNTc4MTI1IEMgMS43NjU2MjUgLTAuMzQzNzUgMS43NjU2MjUgLTAuMjUgMS4wNzgxMjUgLTAuMjUgTCAwLjgxMjUgLTAuMjUgTCAwLjgxMjUgMCBDIDAuOTM3NSAwIDEuNzk2ODc1IC0wLjAzMTI1IDIuMDQ2ODc1IC0wLjAzMTI1IEMgMi4yNjU2MjUgLTAuMDMxMjUgMy4xNDA2MjUgMCAzLjI5Njg3NSAwIEwgMy4yOTY4NzUgLTAuMjUgTCAzLjAzMTI1IC0wLjI1IEMgMi4zMjgxMjUgLTAuMjUgMi4zMjgxMjUgLTAuMzQzNzUgMi4zMjgxMjUgLTAuNTc4MTI1IFogTSAyLjMyODEyNSAtNC40Mzc1ICIvPgo8L3N5bWJvbD4KPHN5bWJvbCBvdmVyZmxvdz0idmlzaWJsZSIgaWQ9ImdseXBoMy0wIj4KPHBhdGggc3R5bGU9InN0cm9rZTpub25lOyIgZD0iIi8+Cjwvc3ltYm9sPgo8c3ltYm9sIG92ZXJmbG93PSJ2aXNpYmxlIiBpZD0iZ2x5cGgzLTEiPgo8cGF0aCBzdHlsZT0ic3Ryb2tlOm5vbmU7IiBkPSJNIDYuNTYyNSAtMi4yOTY4NzUgQyA2LjczNDM3NSAtMi4yOTY4NzUgNi45MjE4NzUgLTIuMjk2ODc1IDYuOTIxODc1IC0yLjUgQyA2LjkyMTg3NSAtMi42ODc1IDYuNzM0Mzc1IC0yLjY4NzUgNi41NjI1IC0yLjY4NzUgTCAxLjE3MTg3NSAtMi42ODc1IEMgMSAtMi42ODc1IDAuODI4MTI1IC0yLjY4NzUgMC44MjgxMjUgLTIuNSBDIDAuODI4MTI1IC0yLjI5Njg3NSAxIC0yLjI5Njg3NSAxLjE3MTg3NSAtMi4yOTY4NzUgWiBNIDYuNTYyNSAtMi4yOTY4NzUgIi8+Cjwvc3ltYm9sPgo8L2c+CjxjbGlwUGF0aCBpZD0iY2xpcDEiPgogIDxwYXRoIGQ9Ik0gMzcgMzcgTCA2NyAzNyBMIDY3IDYwLjkxNDA2MiBMIDM3IDYwLjkxNDA2MiBaIE0gMzcgMzcgIi8+CjwvY2xpcFBhdGg+CjxjbGlwUGF0aCBpZD0iY2xpcDIiPgogIDxwYXRoIGQ9Ik0gOTQgMzcgTCAxMjMgMzcgTCAxMjMgNjAuOTE0MDYyIEwgOTQgNjAuOTE0MDYyIFogTSA5NCAzNyAiLz4KPC9jbGlwUGF0aD4KPC9kZWZzPgo8ZyBpZD0ic3VyZmFjZTEiPgo8ZyBjbGlwLXBhdGg9InVybCgjY2xpcDEpIiBjbGlwLXJ1bGU9Im5vbnplcm8iPgo8cGF0aCBzdHlsZT0iZmlsbDpub25lO3N0cm9rZS13aWR0aDowLjM5ODU7c3Ryb2tlLWxpbmVjYXA6YnV0dDtzdHJva2UtbGluZWpvaW46bWl0ZXI7c3Ryb2tlOnJnYigwJSwwJSwwJSk7c3Ryb2tlLW9wYWNpdHk6MTtzdHJva2UtbWl0ZXJsaW1pdDoxMDsiIGQ9Ik0gOC43MDg4MTMgMC4wMDAxODc1IEMgOC43MDg4MTMgNC44MDg3ODEgNC44MTAzNzUgOC43MDcyMTkgMC4wMDE3ODEyNSA4LjcwNzIxOSBDIC00LjgxMDcxOSA4LjcwNzIxOSAtOC43MDkxNTYgNC44MDg3ODEgLTguNzA5MTU2IDAuMDAwMTg3NSBDIC04LjcwOTE1NiAtNC44MDg0MDYgLTQuODEwNzE5IC04LjcwNjg0NCAwLjAwMTc4MTI1IC04LjcwNjg0NCBDIDQuODEwMzc1IC04LjcwNjg0NCA4LjcwODgxMyAtNC44MDg0MDYgOC43MDg4MTMgMC4wMDAxODc1IFogTSA4LjcwODgxMyAwLjAwMDE4NzUgIiB0cmFuc2Zvcm09Im1hdHJpeCgxLDAsMCwtMSw1MS45MjQsNTIuMDA4KSIvPgo8L2c+CjxnIHN0eWxlPSJmaWxsOnJnYigwJSwwJSwwJSk7ZmlsbC1vcGFjaXR5OjE7Ij4KICA8dXNlIHhsaW5rOmhyZWY9IiNnbHlwaDAtMSIgeD0iNDkuNDMzIiB5PSI1NS4yMTgiLz4KPC9nPgo8ZyBzdHlsZT0iZmlsbDpyZ2IoMCUsMCUsMCUpO2ZpbGwtb3BhY2l0eToxOyI+CiAgPHVzZSB4bGluazpocmVmPSIjZ2x5cGgxLTEiIHg9IjMuMzIxIiB5PSI1NC40NzEiLz4KPC9nPgo8ZyBzdHlsZT0iZmlsbDpyZ2IoMCUsMCUsMCUpO2ZpbGwtb3BhY2l0eToxOyI+CiAgPHVzZSB4bGluazpocmVmPSIjZ2x5cGgyLTEiIHg9IjkuMDE0IiB5PSI1NS45NjYiLz4KPC9nPgo8ZyBzdHlsZT0iZmlsbDpyZ2IoMCUsMCUsMCUpO2ZpbGwtb3BhY2l0eToxOyI+CiAgPHVzZSB4bGluazpocmVmPSIjZ2x5cGgwLTIiIHg9IjE2LjI1MSIgeT0iNTQuNDcxIi8+CjwvZz4KPGcgc3R5bGU9ImZpbGw6cmdiKDAlLDAlLDAlKTtmaWxsLW9wYWNpdHk6MTsiPgogIDx1c2UgeGxpbms6aHJlZj0iI2dseXBoMy0xIiB4PSIyNi43NjciIHk9IjU0LjQ3MSIvPgo8L2c+CjxnIHN0eWxlPSJmaWxsOnJnYigwJSwwJSwwJSk7ZmlsbC1vcGFjaXR5OjE7Ij4KICA8dXNlIHhsaW5rOmhyZWY9IiNnbHlwaDAtMyIgeD0iMzQuNTE2IiB5PSI1NC40NzEiLz4KPC9nPgo8cGF0aCBzdHlsZT0iZmlsbDpub25lO3N0cm9rZS13aWR0aDowLjM5ODU7c3Ryb2tlLWxpbmVjYXA6YnV0dDtzdHJva2UtbGluZWpvaW46bWl0ZXI7c3Ryb2tlOnJnYigwJSwwJSwwJSk7c3Ryb2tlLW9wYWNpdHk6MTtzdHJva2UtbWl0ZXJsaW1pdDoxMDsiIGQ9Ik0gMzcuMDUyNTYzIDI4LjM0Nzg0NCBDIDM3LjA1MjU2MyAzMy4xNTY0MzcgMzMuMTU0MTI1IDM3LjA1NDg3NSAyOC4zNDU1MzEgMzcuMDU0ODc1IEMgMjMuNTM2OTM4IDM3LjA1NDg3NSAxOS42Mzg1IDMzLjE1NjQzNyAxOS42Mzg1IDI4LjM0Nzg0NCBDIDE5LjYzODUgMjMuNTM5MjUgMjMuNTM2OTM4IDE5LjY0MDgxMiAyOC4zNDU1MzEgMTkuNjQwODEyIEMgMzMuMTU0MTI1IDE5LjY0MDgxMiAzNy4wNTI1NjMgMjMuNTM5MjUgMzcuMDUyNTYzIDI4LjM0Nzg0NCBaIE0gMzcuMDUyNTYzIDI4LjM0Nzg0NCAiIHRyYW5zZm9ybT0ibWF0cml4KDEsMCwwLC0xLDUxLjkyNCw1Mi4wMDgpIi8+CjxnIHN0eWxlPSJmaWxsOnJnYigwJSwwJSwwJSk7ZmlsbC1vcGFjaXR5OjE7Ij4KICA8dXNlIHhsaW5rOmhyZWY9IiNnbHlwaDAtMyIgeD0iNzcuNzgiIHk9IjI2Ljg3MiIvPgo8L2c+CjxnIHN0eWxlPSJmaWxsOnJnYigwJSwwJSwwJSk7ZmlsbC1vcGFjaXR5OjE7Ij4KICA8dXNlIHhsaW5rOmhyZWY9IiNnbHlwaDEtMSIgeD0iNjYuMDU2IiB5PSI5Ljc0MSIvPgo8L2c+CjxnIHN0eWxlPSJmaWxsOnJnYigwJSwwJSwwJSk7ZmlsbC1vcGFjaXR5OjE7Ij4KICA8dXNlIHhsaW5rOmhyZWY9IiNnbHlwaDItMSIgeD0iNzEuNzUiIHk9IjExLjIzNSIvPgo8L2c+CjxnIHN0eWxlPSJmaWxsOnJnYigwJSwwJSwwJSk7ZmlsbC1vcGFjaXR5OjE7Ij4KICA8dXNlIHhsaW5rOmhyZWY9IiNnbHlwaDAtMiIgeD0iNzguOTg3IiB5PSI5Ljc0MSIvPgo8L2c+CjxnIHN0eWxlPSJmaWxsOnJnYigwJSwwJSwwJSk7ZmlsbC1vcGFjaXR5OjE7Ij4KICA8dXNlIHhsaW5rOmhyZWY9IiNnbHlwaDAtMSIgeD0iODkuNTA1NTEzIiB5PSI5Ljc0MSIvPgo8L2c+CjxnIGNsaXAtcGF0aD0idXJsKCNjbGlwMikiIGNsaXAtcnVsZT0ibm9uemVybyI+CjxwYXRoIHN0eWxlPSJmaWxsOm5vbmU7c3Ryb2tlLXdpZHRoOjAuMzk4NTtzdHJva2UtbGluZWNhcDpidXR0O3N0cm9rZS1saW5lam9pbjptaXRlcjtzdHJva2U6cmdiKDAlLDAlLDAlKTtzdHJva2Utb3BhY2l0eToxO3N0cm9rZS1taXRlcmxpbWl0OjEwOyIgZD0iTSA2NS40MDAyMTkgMC4wMDAxODc1IEMgNjUuNDAwMjE5IDQuODA4NzgxIDYxLjUwMTc4MSA4LjcwNzIxOSA1Ni42OTMxODggOC43MDcyMTkgQyA1MS44ODQ1OTQgOC43MDcyMTkgNDcuOTg2MTU2IDQuODA4NzgxIDQ3Ljk4NjE1NiAwLjAwMDE4NzUgQyA0Ny45ODYxNTYgLTQuODA4NDA2IDUxLjg4NDU5NCAtOC43MDY4NDQgNTYuNjkzMTg4IC04LjcwNjg0NCBDIDYxLjUwMTc4MSAtOC43MDY4NDQgNjUuNDAwMjE5IC00LjgwODQwNiA2NS40MDAyMTkgMC4wMDAxODc1IFogTSA2NS40MDAyMTkgMC4wMDAxODc1ICIgdHJhbnNmb3JtPSJtYXRyaXgoMSwwLDAsLTEsNTEuOTI0LDUyLjAwOCkiLz4KPC9nPgo8ZyBzdHlsZT0iZmlsbDpyZ2IoMCUsMCUsMCUpO2ZpbGwtb3BhY2l0eToxOyI+CiAgPHVzZSB4bGluazpocmVmPSIjZ2x5cGgwLTQiIHg9IjEwNi4xMjYiIHk9IjU1LjIxOCIvPgo8L2c+CjxnIHN0eWxlPSJmaWxsOnJnYigwJSwwJSwwJSk7ZmlsbC1vcGFjaXR5OjE7Ij4KICA8dXNlIHhsaW5rOmhyZWY9IiNnbHlwaDEtMSIgeD0iMTIxLjA0MyIgeT0iNTQuNDcxIi8+CjwvZz4KPGcgc3R5bGU9ImZpbGw6cmdiKDAlLDAlLDAlKTtmaWxsLW9wYWNpdHk6MTsiPgogIDx1c2UgeGxpbms6aHJlZj0iI2dseXBoMi0xIiB4PSIxMjYuNzM3IiB5PSI1NS45NjYiLz4KPC9nPgo8ZyBzdHlsZT0iZmlsbDpyZ2IoMCUsMCUsMCUpO2ZpbGwtb3BhY2l0eToxOyI+CiAgPHVzZSB4bGluazpocmVmPSIjZ2x5cGgwLTIiIHg9IjEzMy45NzQiIHk9IjU0LjQ3MSIvPgo8L2c+CjxnIHN0eWxlPSJmaWxsOnJnYigwJSwwJSwwJSk7ZmlsbC1vcGFjaXR5OjE7Ij4KICA8dXNlIHhsaW5rOmhyZWY9IiNnbHlwaDAtMyIgeD0iMTQ0LjQ5MjUxMyIgeT0iNTQuNDcxIi8+CjwvZz4KPHBhdGggc3R5bGU9ImZpbGw6bm9uZTtzdHJva2Utd2lkdGg6MC4zOTg1O3N0cm9rZS1saW5lY2FwOmJ1dHQ7c3Ryb2tlLWxpbmVqb2luOm1pdGVyO3N0cm9rZTpyZ2IoMCUsMCUsMCUpO3N0cm9rZS1vcGFjaXR5OjE7c3Ryb2tlLW1pdGVybGltaXQ6MTA7IiBkPSJNIDYuMjk4NjU2IDYuMjk3MDYyIEwgMjIuMDQ4NjU2IDIyLjA0NzA2MiAiIHRyYW5zZm9ybT0ibWF0cml4KDEsMCwwLC0xLDUxLjkyNCw1Mi4wMDgpIi8+CjxwYXRoIHN0eWxlPSJmaWxsOm5vbmU7c3Ryb2tlLXdpZHRoOjAuMzk4NTtzdHJva2UtbGluZWNhcDpidXR0O3N0cm9rZS1saW5lam9pbjptaXRlcjtzdHJva2U6cmdiKDAlLDAlLDAlKTtzdHJva2Utb3BhY2l0eToxO3N0cm9rZS1taXRlcmxpbWl0OjEwOyIgZD0iTSAzNC42NDYzMTMgMjIuMDQ3MDYyIEwgNTAuMzk2MzEzIDYuMjk3MDYyICIgdHJhbnNmb3JtPSJtYXRyaXgoMSwwLDAsLTEsNTEuOTI0LDUyLjAwOCkiLz4KPC9nPgo8L3N2Zz4K"
     ]
    }
   },
   "cell_type": "markdown",
   "id": "f2e6fd3f",
   "metadata": {},
   "source": [
    "![graph.svg](attachment:graph.svg)"
   ]
  },
  {
   "cell_type": "code",
   "execution_count": 31,
   "id": "9da382e3",
   "metadata": {},
   "outputs": [
    {
     "name": "stdout",
     "output_type": "stream",
     "text": [
      "Graph with 3 nodes and 2 edges\n"
     ]
    },
    {
     "data": {
      "image/png": "[encoded data removed]",
      "text/plain": [
       "<Figure size 432x288 with 1 Axes>"
      ]
     },
     "metadata": {},
     "output_type": "display_data"
    }
   ],
   "source": [
    "import networkx as nx\n",
    "from torch_geometric.utils import to_networkx, from_networkx\n",
    "G = to_networkx(data, to_undirected=True)\n",
    "print(G)\n",
    "nx.draw(G)"
   ]
  },
  {
   "cell_type": "code",
   "execution_count": 32,
   "id": "84672fe3",
   "metadata": {},
   "outputs": [],
   "source": [
    "#Bir önceki örnekte COO çizge formatındaki gibi kenarların\n",
    "#başlangıç ve bitiş noktası verilmişti. Eğer elinizde kenar\n",
    "#ikilileri varsa tensörün devriğini alıp girdi olarak verebilirsiniz. \n",
    "\n",
    "import torch\n",
    "from torch_geometric.data import Data\n",
    "\n",
    "#basit, yönsüz bir çizge için listede her kenar iki kere gözüküyor.\n",
    "edge_index = torch.tensor([[0, 1],\n",
    "                           [1, 0],\n",
    "                           [1, 2],\n",
    "                           [2, 1]], dtype=torch.long)\n",
    "x = torch.tensor([[-1], [0], [1]], dtype=torch.float)\n",
    "\n",
    "data = Data(x=x, edge_index=edge_index.t())\n"
   ]
  },
  {
   "cell_type": "code",
   "execution_count": 33,
   "id": "194e6eac",
   "metadata": {},
   "outputs": [
    {
     "name": "stdout",
     "output_type": "stream",
     "text": [
      "['x', 'edge_index']\n"
     ]
    }
   ],
   "source": [
    "print(data.keys)"
   ]
  },
  {
   "cell_type": "code",
   "execution_count": 34,
   "id": "bacc4e85",
   "metadata": {},
   "outputs": [
    {
     "name": "stdout",
     "output_type": "stream",
     "text": [
      "tensor([[-1.],\n",
      "        [ 0.],\n",
      "        [ 1.]])\n"
     ]
    }
   ],
   "source": [
    "print(data['x'])"
   ]
  },
  {
   "cell_type": "code",
   "execution_count": 35,
   "id": "1767c14e",
   "metadata": {},
   "outputs": [
    {
     "name": "stdout",
     "output_type": "stream",
     "text": [
      "x found in data\n",
      "edge_index found in data\n"
     ]
    }
   ],
   "source": [
    "for key, item in data:\n",
    "    print(\"{} found in data\".format(key))"
   ]
  },
  {
   "cell_type": "code",
   "execution_count": 36,
   "id": "2df7f768",
   "metadata": {},
   "outputs": [
    {
     "data": {
      "text/plain": [
       "False"
      ]
     },
     "execution_count": 36,
     "metadata": {},
     "output_type": "execute_result"
    }
   ],
   "source": [
    "'edge_attr' in data"
   ]
  },
  {
   "cell_type": "code",
   "execution_count": 37,
   "id": "c4139baf",
   "metadata": {},
   "outputs": [
    {
     "data": {
      "text/plain": [
       "3"
      ]
     },
     "execution_count": 37,
     "metadata": {},
     "output_type": "execute_result"
    }
   ],
   "source": [
    "data.num_nodes"
   ]
  },
  {
   "cell_type": "code",
   "execution_count": 38,
   "id": "13a81e0e",
   "metadata": {},
   "outputs": [
    {
     "data": {
      "text/plain": [
       "4"
      ]
     },
     "execution_count": 38,
     "metadata": {},
     "output_type": "execute_result"
    }
   ],
   "source": [
    "data.num_edges"
   ]
  },
  {
   "cell_type": "code",
   "execution_count": 39,
   "id": "a9a38b7e",
   "metadata": {},
   "outputs": [
    {
     "data": {
      "text/plain": [
       "1"
      ]
     },
     "execution_count": 39,
     "metadata": {},
     "output_type": "execute_result"
    }
   ],
   "source": [
    "data.num_node_features"
   ]
  },
  {
   "cell_type": "code",
   "execution_count": 42,
   "id": "c5c42ea1",
   "metadata": {},
   "outputs": [
    {
     "data": {
      "text/plain": [
       "False"
      ]
     },
     "execution_count": 42,
     "metadata": {},
     "output_type": "execute_result"
    }
   ],
   "source": [
    "data.is_directed()"
   ]
  },
  {
   "cell_type": "code",
   "execution_count": 43,
   "id": "a68bc6f5",
   "metadata": {},
   "outputs": [],
   "source": [
    "#device = torch.device('cuda')\n",
    "#data = data.to(device)"
   ]
  },
  {
   "cell_type": "code",
   "execution_count": 44,
   "id": "1bb3b10c",
   "metadata": {},
   "outputs": [
    {
     "name": "stdout",
     "output_type": "stream",
     "text": [
      "ENZYMES(600)\n",
      "Çizge sayısı: 600\n",
      "Sınıf sayısı: 6\n",
      "Özellik sayısı: 3\n",
      "İlk çizge: Data(edge_index=[2, 168], x=[37, 3], y=[1])\n",
      "İlk çizge x: tensor([[1., 0., 0.],\n",
      "        [1., 0., 0.],\n",
      "        [1., 0., 0.],\n",
      "        [1., 0., 0.],\n",
      "        [1., 0., 0.],\n",
      "        [1., 0., 0.],\n",
      "        [1., 0., 0.],\n",
      "        [1., 0., 0.],\n",
      "        [1., 0., 0.],\n",
      "        [1., 0., 0.],\n",
      "        [1., 0., 0.],\n",
      "        [1., 0., 0.],\n",
      "        [1., 0., 0.],\n",
      "        [1., 0., 0.],\n",
      "        [1., 0., 0.],\n",
      "        [1., 0., 0.],\n",
      "        [1., 0., 0.],\n",
      "        [1., 0., 0.],\n",
      "        [1., 0., 0.],\n",
      "        [1., 0., 0.],\n",
      "        [1., 0., 0.],\n",
      "        [1., 0., 0.],\n",
      "        [1., 0., 0.],\n",
      "        [1., 0., 0.],\n",
      "        [0., 1., 0.],\n",
      "        [0., 1., 0.],\n",
      "        [0., 1., 0.],\n",
      "        [0., 1., 0.],\n",
      "        [0., 1., 0.],\n",
      "        [0., 1., 0.],\n",
      "        [0., 1., 0.],\n",
      "        [0., 1., 0.],\n",
      "        [0., 1., 0.],\n",
      "        [0., 1., 0.],\n",
      "        [0., 1., 0.],\n",
      "        [0., 1., 0.],\n",
      "        [0., 1., 0.]])\n",
      "İlk çizge y: tensor([5])\n"
     ]
    }
   ],
   "source": [
    "#pytorch geometric kütüphanesinin içerisindeki örnek çizgeleri de kullanabiliriz\n",
    "\n",
    "#TU Dortmund Üniversitesi'nden toplanan \"IMDB-BINARY\", \"REDDIT-BINARY\" veya \"PROTEINS\" \n",
    "#gibi çeşitli çizge çekirdeği kıyaslama veri kümeleri.\n",
    "from torch_geometric.datasets import TUDataset\n",
    "\n",
    "#ENZYMES, BRENDA enzim veri tabanından elde edilen 600 protein  \n",
    "#yapısından oluşan bir veri setidir. Bu veri seti 6 farklı enzim içerir.\n",
    "dataset = TUDataset(root='/tmp/ENZYMES', name='ENZYMES')\n",
    "print(dataset)\n",
    "print('Çizge sayısı:', len(dataset))\n",
    "print('Sınıf sayısı:', dataset.num_classes)\n",
    "print('Özellik sayısı:', dataset.num_node_features)\n",
    "\n",
    "print('İlk çizge:', dataset[0])\n",
    "print('İlk çizge x:', dataset[0].x)\n",
    "print('İlk çizge y:', dataset[0].y)\n"
   ]
  },
  {
   "cell_type": "code",
   "execution_count": 45,
   "id": "0ce74ea6",
   "metadata": {},
   "outputs": [
    {
     "name": "stdout",
     "output_type": "stream",
     "text": [
      "Çizge sayısı: 2349\n",
      "Sınıf sayısı: 50\n",
      "Nokta özellik sayısı: 3\n",
      "İlk çizge: Data(x=[2541, 3], y=[2541], pos=[2541, 3], category=[1], edge_index=[2, 15246])\n",
      "İlk çizge x: tensor([[-0.0063,  0.1771,  0.9842],\n",
      "        [ 0.0975,  0.8018, -0.5895],\n",
      "        [-0.1128,  0.1383,  0.9839],\n",
      "        ...,\n",
      "        [-0.1087,  0.3088, -0.9449],\n",
      "        [ 0.6730,  0.6764, -0.2991],\n",
      "        [ 0.1489, -0.6604, -0.7360]])\n",
      "İlk çizge y: tensor([0, 3, 2,  ..., 3, 0, 0])\n",
      "Yönsüz: False\n"
     ]
    },
    {
     "data": {
      "image/png": "[encoded data removed]",
      "text/plain": [
       "<Figure size 432x288 with 1 Axes>"
      ]
     },
     "metadata": {
      "needs_background": "light"
     },
     "output_type": "display_data"
    }
   ],
   "source": [
    "import torch_geometric.transforms as T\n",
    "import networkx as nx\n",
    "from torch_geometric.datasets import ShapeNet\n",
    "import numpy as np\n",
    "import matplotlib.pyplot as plt\n",
    "from mpl_toolkits import mplot3d\n",
    "\n",
    "#nokta bulutları gibi geometrik yapıların da transform kütüphanesi\n",
    "#ile kullanımı mümkün olabilir. \n",
    "dataset = ShapeNet(root='/tmp/ShapeNet', categories=['Airplane'], pre_transform=T.KNNGraph(k=6))\n",
    "\n",
    "xyz = dataset[2].pos.detach().numpy()\n",
    "ax = plt.axes(projection='3d')\n",
    "ax.scatter(xyz[:,0], xyz[:,1], xyz[:,2], c = 'black', s=0.1)\n",
    "\n",
    "print('Çizge sayısı:', len(dataset))\n",
    "print('Sınıf sayısı:' , dataset.num_classes)\n",
    "print('Nokta özellik sayısı:', dataset.num_node_features)\n",
    "\n",
    "print('İlk çizge:', dataset[2])\n",
    "print('İlk çizge x:', dataset[2].x)\n",
    "print('İlk çizge y:', dataset[2].y)\n",
    "\n",
    "print('Yönsüz:', dataset[2].is_undirected())"
   ]
  },
  {
   "cell_type": "code",
   "execution_count": 46,
   "id": "1ffb8877",
   "metadata": {},
   "outputs": [
    {
     "name": "stdout",
     "output_type": "stream",
     "text": [
      "Çizge sayısı: 1\n",
      "Nokta sınıf sayısı: 7\n",
      "Nokta özellik sayısı: 1433\n",
      "İlk çizge: Data(x=[2708, 1433], edge_index=[2, 10556], y=[2708], train_mask=[2708], val_mask=[2708], test_mask=[2708])\n",
      "İlk çizge x: tensor([[0., 0., 0.,  ..., 0., 0., 0.],\n",
      "        [0., 0., 0.,  ..., 0., 0., 0.],\n",
      "        [0., 0., 0.,  ..., 0., 0., 0.],\n",
      "        ...,\n",
      "        [0., 0., 0.,  ..., 0., 0., 0.],\n",
      "        [0., 0., 0.,  ..., 0., 0., 0.],\n",
      "        [0., 0., 0.,  ..., 0., 0., 0.]])\n",
      "İlk çizge y: tensor([3, 4, 4,  ..., 3, 3, 3])\n",
      "Yönsüz: True\n"
     ]
    }
   ],
   "source": [
    "from torch_geometric.datasets import Planetoid\n",
    "dataset = Planetoid(root='/tmp/Cora', name='Cora')\n",
    "\n",
    "#Cora veri seti, yedi sınıftan birinden gelen 2708 bilimsel yayından oluşur.\n",
    "#Alıntı ağı 5429 bağlantıdan oluşmaktadır. Veri setindeki her yayın, sözlükte karşılık \n",
    "#gelen kelimenin yokluğunu/mevcudiyetini gösteren 0/1-değerli bir kelime vektörü ile tanımlanır. \n",
    "#Sözlük 1433 farkl kelimeden oluşmaktadır.\n",
    "\n",
    "print('Çizge sayısı:', len(dataset))\n",
    "print('Nokta sınıf sayısı:' , dataset.num_classes)\n",
    "print('Nokta özellik sayısı:', dataset.num_node_features)\n",
    "\n",
    "print('İlk çizge:', dataset[0])\n",
    "print('İlk çizge x:', dataset[0].x)\n",
    "print('İlk çizge y:', dataset[0].y)\n",
    "\n",
    "print('Yönsüz:', dataset[0].is_undirected())"
   ]
  }
 ],
 "metadata": {
  "kernelspec": {
   "display_name": "Python 3",
   "language": "python",
   "name": "python3"
  },
  "language_info": {
   "codemirror_mode": {
    "name": "ipython",
    "version": 3
   },
   "file_extension": ".py",
   "mimetype": "text/x-python",
   "name": "python",
   "nbconvert_exporter": "python",
   "pygments_lexer": "ipython3",
   "version": "3.8.8"
  }
 },
 "nbformat": 4,
 "nbformat_minor": 5
}
